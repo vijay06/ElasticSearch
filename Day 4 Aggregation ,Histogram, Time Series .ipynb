{
 "cells": [
  {
   "cell_type": "code",
   "execution_count": 74,
   "metadata": {
    "collapsed": true
   },
   "outputs": [],
   "source": [
    "import csv\n",
    "from collections import deque\n",
    "import elasticsearch\n",
    "from elasticsearch import helpers\n",
    "import json\n",
    "import pandas as pd"
   ]
  },
  {
   "cell_type": "code",
   "execution_count": 75,
   "metadata": {
    "collapsed": true
   },
   "outputs": [],
   "source": [
    "es = elasticsearch.Elasticsearch()"
   ]
  },
  {
   "cell_type": "markdown",
   "metadata": {},
   "source": [
    "# Histogram"
   ]
  },
  {
   "cell_type": "code",
   "execution_count": 76,
   "metadata": {
    "collapsed": true
   },
   "outputs": [],
   "source": [
    "query={\n",
    "        \"aggs\": {\n",
    "                \"whole_ratings\": {\n",
    "                        \"histogram\":{\n",
    "                                \"field\":\"rating\",\n",
    "                                \"interval\":1.0\n",
    "                        }\n",
    "                }\n",
    "        }\n",
    "}"
   ]
  },
  {
   "cell_type": "code",
   "execution_count": 77,
   "metadata": {},
   "outputs": [
    {
     "name": "stdout",
     "output_type": "stream",
     "text": [
      "{'whole_ratings': {'buckets': [{'key': 0.0, 'doc_count': 1101}, {'key': 1.0, 'doc_count': 5013}, {'key': 2.0, 'doc_count': 11720}, {'key': 3.0, 'doc_count': 30602}, {'key': 4.0, 'doc_count': 36473}, {'key': 5.0, 'doc_count': 15095}]}}\n"
     ]
    }
   ],
   "source": [
    "if es is not None:\n",
    "    res=(es.search(index='ratings', body=json.dumps(query)))\n",
    "    print(res['aggregations'])   "
   ]
  },
  {
   "cell_type": "markdown",
   "metadata": {},
   "source": [
    "# Time Series"
   ]
  },
  {
   "cell_type": "code",
   "execution_count": 78,
   "metadata": {
    "collapsed": true
   },
   "outputs": [],
   "source": [
    "query={\n",
    "        \"aggs\": {\n",
    "                \"timestamp\": {\n",
    "                        \"date_histogram\": {\n",
    "                                \"field\":\"@timestamp\",\n",
    "                                \"interval\":\"hour\"\n",
    "                        }\n",
    "                }\n",
    "        }\n",
    "}"
   ]
  },
  {
   "cell_type": "code",
   "execution_count": 82,
   "metadata": {},
   "outputs": [
    {
     "name": "stdout",
     "output_type": "stream",
     "text": [
      "{'timestamp': {'buckets': [{'key_as_string': '2017-05-04T00:00:00.000Z', 'key': 1493856000000, 'doc_count': 1432}, {'key_as_string': '2017-05-04T01:00:00.000Z', 'key': 1493859600000, 'doc_count': 1036}, {'key_as_string': '2017-05-04T02:00:00.000Z', 'key': 1493863200000, 'doc_count': 1242}, {'key_as_string': '2017-05-04T03:00:00.000Z', 'key': 1493866800000, 'doc_count': 790}, {'key_as_string': '2017-05-04T04:00:00.000Z', 'key': 1493870400000, 'doc_count': 740}, {'key_as_string': '2017-05-04T05:00:00.000Z', 'key': 1493874000000, 'doc_count': 1148}, {'key_as_string': '2017-05-04T06:00:00.000Z', 'key': 1493877600000, 'doc_count': 938}, {'key_as_string': '2017-05-04T07:00:00.000Z', 'key': 1493881200000, 'doc_count': 1558}, {'key_as_string': '2017-05-04T08:00:00.000Z', 'key': 1493884800000, 'doc_count': 626}, {'key_as_string': '2017-05-04T09:00:00.000Z', 'key': 1493888400000, 'doc_count': 1690}, {'key_as_string': '2017-05-04T10:00:00.000Z', 'key': 1493892000000, 'doc_count': 576}, {'key_as_string': '2017-05-04T11:00:00.000Z', 'key': 1493895600000, 'doc_count': 1178}, {'key_as_string': '2017-05-04T12:00:00.000Z', 'key': 1493899200000, 'doc_count': 1804}, {'key_as_string': '2017-05-04T13:00:00.000Z', 'key': 1493902800000, 'doc_count': 3534}, {'key_as_string': '2017-05-04T14:00:00.000Z', 'key': 1493906400000, 'doc_count': 5102}, {'key_as_string': '2017-05-04T15:00:00.000Z', 'key': 1493910000000, 'doc_count': 1156}, {'key_as_string': '2017-05-04T16:00:00.000Z', 'key': 1493913600000, 'doc_count': 1754}, {'key_as_string': '2017-05-04T17:00:00.000Z', 'key': 1493917200000, 'doc_count': 1210}, {'key_as_string': '2017-05-04T18:00:00.000Z', 'key': 1493920800000, 'doc_count': 710}, {'key_as_string': '2017-05-04T19:00:00.000Z', 'key': 1493924400000, 'doc_count': 1242}, {'key_as_string': '2017-05-04T20:00:00.000Z', 'key': 1493928000000, 'doc_count': 1330}, {'key_as_string': '2017-05-04T21:00:00.000Z', 'key': 1493931600000, 'doc_count': 856}, {'key_as_string': '2017-05-04T22:00:00.000Z', 'key': 1493935200000, 'doc_count': 1058}, {'key_as_string': '2017-05-04T23:00:00.000Z', 'key': 1493938800000, 'doc_count': 814}]}}\n"
     ]
    }
   ],
   "source": [
    "if es is not None:\n",
    "    res=(es.search(index='logstash-2017.05.04', body=json.dumps(query)))\n",
    "    print(res['aggregations']) "
   ]
  },
  {
   "cell_type": "code",
   "execution_count": 83,
   "metadata": {
    "collapsed": true
   },
   "outputs": [],
   "source": [
    "query={\n",
    "        \"query\":{\n",
    "                \"match\": {\n",
    "                        \"agent\":\"Googlebot\"\n",
    "                }\n",
    "        },\n",
    "        \"aggs\":{\n",
    "                \"timestamp\":{\n",
    "                        \"date_histogram\":{\n",
    "                                \"field\":\"@timestamp\",\n",
    "                                \"interval\":\"hour\"\n",
    "                        }\n",
    "                }\n",
    "        }\n",
    "}"
   ]
  },
  {
   "cell_type": "code",
   "execution_count": 84,
   "metadata": {},
   "outputs": [
    {
     "name": "stdout",
     "output_type": "stream",
     "text": [
      "{'timestamp': {'buckets': [{'key_as_string': '2017-05-04T00:00:00.000Z', 'key': 1493856000000, 'doc_count': 26}, {'key_as_string': '2017-05-04T01:00:00.000Z', 'key': 1493859600000, 'doc_count': 20}, {'key_as_string': '2017-05-04T02:00:00.000Z', 'key': 1493863200000, 'doc_count': 28}, {'key_as_string': '2017-05-04T03:00:00.000Z', 'key': 1493866800000, 'doc_count': 24}, {'key_as_string': '2017-05-04T04:00:00.000Z', 'key': 1493870400000, 'doc_count': 32}, {'key_as_string': '2017-05-04T05:00:00.000Z', 'key': 1493874000000, 'doc_count': 22}, {'key_as_string': '2017-05-04T06:00:00.000Z', 'key': 1493877600000, 'doc_count': 26}, {'key_as_string': '2017-05-04T07:00:00.000Z', 'key': 1493881200000, 'doc_count': 24}, {'key_as_string': '2017-05-04T08:00:00.000Z', 'key': 1493884800000, 'doc_count': 18}, {'key_as_string': '2017-05-04T09:00:00.000Z', 'key': 1493888400000, 'doc_count': 20}, {'key_as_string': '2017-05-04T10:00:00.000Z', 'key': 1493892000000, 'doc_count': 20}, {'key_as_string': '2017-05-04T11:00:00.000Z', 'key': 1493895600000, 'doc_count': 24}, {'key_as_string': '2017-05-04T12:00:00.000Z', 'key': 1493899200000, 'doc_count': 20}, {'key_as_string': '2017-05-04T13:00:00.000Z', 'key': 1493902800000, 'doc_count': 26}, {'key_as_string': '2017-05-04T14:00:00.000Z', 'key': 1493906400000, 'doc_count': 36}, {'key_as_string': '2017-05-04T15:00:00.000Z', 'key': 1493910000000, 'doc_count': 24}, {'key_as_string': '2017-05-04T16:00:00.000Z', 'key': 1493913600000, 'doc_count': 34}, {'key_as_string': '2017-05-04T17:00:00.000Z', 'key': 1493917200000, 'doc_count': 22}, {'key_as_string': '2017-05-04T18:00:00.000Z', 'key': 1493920800000, 'doc_count': 36}, {'key_as_string': '2017-05-04T19:00:00.000Z', 'key': 1493924400000, 'doc_count': 30}, {'key_as_string': '2017-05-04T20:00:00.000Z', 'key': 1493928000000, 'doc_count': 20}, {'key_as_string': '2017-05-04T21:00:00.000Z', 'key': 1493931600000, 'doc_count': 26}, {'key_as_string': '2017-05-04T22:00:00.000Z', 'key': 1493935200000, 'doc_count': 50}, {'key_as_string': '2017-05-04T23:00:00.000Z', 'key': 1493938800000, 'doc_count': 36}]}}\n"
     ]
    }
   ],
   "source": [
    "if es is not None:\n",
    "    res=(es.search(index='logstash-2017.05.04', body=json.dumps(query)))\n",
    "    print(res['aggregations'])"
   ]
  },
  {
   "cell_type": "code",
   "execution_count": 85,
   "metadata": {
    "collapsed": true
   },
   "outputs": [],
   "source": [
    "query={\n",
    "        \"query\":{\n",
    "                \"match\": {\n",
    "                        \"response\":\"500\"\n",
    "                }\n",
    "        },\n",
    "        \"aggs\":{\n",
    "                \"timestamp\":{\n",
    "                        \"date_histogram\":{\n",
    "                                \"field\":\"@timestamp\",\n",
    "                                \"interval\":\"minute\"\n",
    "                        }\n",
    "                }\n",
    "        }\n",
    "}"
   ]
  },
  {
   "cell_type": "code",
   "execution_count": 86,
   "metadata": {},
   "outputs": [
    {
     "name": "stdout",
     "output_type": "stream",
     "text": [
      "{'timestamp': {'buckets': []}}\n"
     ]
    }
   ],
   "source": [
    "if es is not None:\n",
    "    res=(es.search(index='logstash-2017.05.04', body=json.dumps(query)))\n",
    "    print(res['aggregations'])"
   ]
  },
  {
   "cell_type": "markdown",
   "metadata": {},
   "source": [
    "# Nested Query"
   ]
  },
  {
   "cell_type": "code",
   "execution_count": 103,
   "metadata": {
    "collapsed": true
   },
   "outputs": [],
   "source": [
    "query={\n",
    "\"query\": {\"match_phrase\":{\"title\":\"Star Wars\"}},\n",
    "\"aggs\":{\n",
    "\"title\":{\n",
    "\"terms\":{\"field\":\"title.raw\"},\n",
    "\"aggs\": {\n",
    "\"avg_rating\": {\n",
    "\"avg\" : {\"field\":\"rating\"}\n",
    "}\n",
    "}\n",
    "}\n",
    "}\n",
    "}"
   ]
  },
  {
   "cell_type": "code",
   "execution_count": 106,
   "metadata": {},
   "outputs": [
    {
     "name": "stdout",
     "output_type": "stream",
     "text": [
      "{'title': {'doc_count_error_upper_bound': 0, 'sum_other_doc_count': 0, 'buckets': [{'key': 'Star Wars: Episode IV - A New Hope (1977)', 'doc_count': 582, 'avg_rating': {'value': 4.221649484536083}}, {'key': 'Star Wars: Episode V - The Empire Strikes Back (1980)', 'doc_count': 468, 'avg_rating': {'value': 4.232905982905983}}, {'key': 'Star Wars: Episode VI - Return of the Jedi (1983)', 'doc_count': 434, 'avg_rating': {'value': 4.059907834101383}}, {'key': 'Star Wars: Episode I - The Phantom Menace (1999)', 'doc_count': 276, 'avg_rating': {'value': 3.199275362318841}}, {'key': 'Star Wars: Episode II - Attack of the Clones (2002)', 'doc_count': 164, 'avg_rating': {'value': 3.1036585365853657}}, {'key': 'Star Wars: Episode III - Revenge of the Sith (2005)', 'doc_count': 124, 'avg_rating': {'value': 3.629032258064516}}, {'key': 'Star Wars: Episode VII - The Force Awakens (2015)', 'doc_count': 58, 'avg_rating': {'value': 3.5172413793103448}}, {'key': 'Star Wars: The Clone Wars (2008)', 'doc_count': 6, 'avg_rating': {'value': 2.6666666666666665}}, {'key': \"Empire of Dreams: The Story of the 'Star Wars' Trilogy (2004)\", 'doc_count': 2, 'avg_rating': {'value': 4.0}}]}}\n"
     ]
    }
   ],
   "source": [
    "if es is not None:\n",
    "    res=(es.search(index='ratings', body=json.dumps(query)))\n",
    "    print(res['aggregations'])"
   ]
  },
  {
   "cell_type": "code",
   "execution_count": null,
   "metadata": {
    "collapsed": true
   },
   "outputs": [],
   "source": []
  }
 ],
 "metadata": {
  "kernelspec": {
   "display_name": "Python 3",
   "language": "python",
   "name": "python3"
  },
  "language_info": {
   "codemirror_mode": {
    "name": "ipython",
    "version": 3
   },
   "file_extension": ".py",
   "mimetype": "text/x-python",
   "name": "python",
   "nbconvert_exporter": "python",
   "pygments_lexer": "ipython3",
   "version": "3.6.2"
  }
 },
 "nbformat": 4,
 "nbformat_minor": 2
}
