{
 "cells": [
  {
   "cell_type": "code",
   "execution_count": 15,
   "metadata": {
    "collapsed": true
   },
   "outputs": [],
   "source": [
    "import csv\n",
    "from collections import deque\n",
    "import elasticsearch\n",
    "from elasticsearch import helpers\n",
    "import json\n",
    "import pandas as pd"
   ]
  },
  {
   "cell_type": "code",
   "execution_count": 16,
   "metadata": {
    "collapsed": true
   },
   "outputs": [],
   "source": [
    "def readMovies():\n",
    "    csvfile = open('ml-latest-small/movies.csv', 'r')\n",
    "\n",
    "    reader = csv.DictReader( csvfile )\n",
    "\n",
    "    titleLookup = {}\n",
    "\n",
    "    for movie in reader:\n",
    "            titleLookup[movie['movieId']] = movie['title']\n",
    "\n",
    "    return titleLookup"
   ]
  },
  {
   "cell_type": "code",
   "execution_count": 17,
   "metadata": {
    "collapsed": true
   },
   "outputs": [],
   "source": [
    "def readRatings():\n",
    "    csvfile = open('ml-latest-small/ratings.csv', 'r')\n",
    "\n",
    "    titleLookup = readMovies()\n",
    "\n",
    "    reader = csv.DictReader( csvfile )\n",
    "    for line in reader:\n",
    "        rating = {}\n",
    "        rating['user_id'] = int(line['userId'])\n",
    "        rating['movie_id'] = int(line['movieId'])\n",
    "        rating['title'] = titleLookup[line['movieId']]\n",
    "        rating['rating'] = float(line['rating'])\n",
    "        rating['timestamp'] = int(line['timestamp'])\n",
    "        yield rating"
   ]
  },
  {
   "cell_type": "code",
   "execution_count": 18,
   "metadata": {},
   "outputs": [],
   "source": [
    "es = elasticsearch.Elasticsearch()"
   ]
  },
  {
   "cell_type": "code",
   "execution_count": 20,
   "metadata": {},
   "outputs": [
    {
     "data": {
      "text/plain": [
       "{'_shards': {'failed': 0, 'successful': 149, 'total': 217}}"
      ]
     },
     "execution_count": 20,
     "metadata": {},
     "output_type": "execute_result"
    }
   ],
   "source": [
    "#delete if index already defined\n",
    "es.indices.delete(index=\"ratings\",ignore=404)\n",
    "settings={\n",
    "        \"mappings\": {\n",
    "                \"rating\": {\n",
    "                        \"properties\": {\n",
    "                                \"title\": {\n",
    "\n",
    "                                        \"type\":\"text\",\n",
    "                                        \"fielddata\":True,\n",
    "                                        \"fields\": {\n",
    "                                                \"raw\": {\n",
    "                                                        \"type\":\"keyword\"\n",
    "                                                }\n",
    "                                        }\n",
    "                                }\n",
    "                        }\n",
    "                }\n",
    "        }\n",
    "}\n",
    "es.indices.create(index=\"ratings\", ignore=400, body=settings)\n",
    "#import data to index\n",
    "deque(helpers.parallel_bulk(es,readRatings(),index=\"ratings\",doc_type=\"rating\"), maxlen=0)\n",
    "es.indices.refresh()"
   ]
  },
  {
   "cell_type": "markdown",
   "metadata": {},
   "source": [
    "Verification"
   ]
  },
  {
   "cell_type": "code",
   "execution_count": 21,
   "metadata": {
    "collapsed": true
   },
   "outputs": [],
   "source": [
    "def search(es_object, index_name, search):\n",
    "    res = es_object.search(index=index_name, body=search)\n",
    "    data=(res['hits']['hits'])\n",
    "    for i in data:\n",
    "        print(i)"
   ]
  },
  {
   "cell_type": "code",
   "execution_count": 22,
   "metadata": {},
   "outputs": [
    {
     "name": "stdout",
     "output_type": "stream",
     "text": [
      "{'_index': 'ratings', '_type': 'rating', '_id': '0O0ac2YBSMzvaMU4m0-O', '_score': 4.6106668, '_source': {'user_id': 91, 'movie_id': 68358, 'title': 'Star Trek (2009)', 'rating': 4.5, 'timestamp': 1448798186}}\n",
      "{'_index': 'ratings', '_type': 'rating', '_id': 'Pu0ac2YBSMzvaMU4q3Iy', '_score': 4.6106668, '_source': {'user_id': 159, 'movie_id': 800, 'title': 'Lone Star (1996)', 'rating': 4.5, 'timestamp': 1183519437}}\n",
      "{'_index': 'ratings', '_type': 'rating', '_id': 'Du0ac2YBSMzvaMU4p2kT', '_score': 4.6106668, '_source': {'user_id': 134, 'movie_id': 68358, 'title': 'Star Trek (2009)', 'rating': 4.0, 'timestamp': 1361244848}}\n",
      "{'_index': 'ratings', '_type': 'rating', '_id': 'dO0ac2YBSMzvaMU4mkow', '_score': 4.6106668, '_source': {'user_id': 78, 'movie_id': 68358, 'title': 'Star Trek (2009)', 'rating': 4.0, 'timestamp': 1344469772}}\n",
      "{'_index': 'ratings', '_type': 'rating', '_id': 'UO0ac2YBSMzvaMU4kjdI', '_score': 4.6106668, '_source': {'user_id': 48, 'movie_id': 68358, 'title': 'Star Trek (2009)', 'rating': 3.0, 'timestamp': 1414850769}}\n",
      "{'_index': 'ratings', '_type': 'rating', '_id': 'bO0ac2YBSMzvaMU4oV_K', '_score': 4.6106668, '_source': {'user_id': 119, 'movie_id': 1613, 'title': 'Star Maps (1997)', 'rating': 3.0, 'timestamp': 952582839}}\n",
      "{'_index': 'ratings', '_type': 'rating', '_id': 'pu0ac2YBSMzvaMU4to4k', '_score': 4.6106668, '_source': {'user_id': 213, 'movie_id': 68358, 'title': 'Star Trek (2009)', 'rating': 5.0, 'timestamp': 1462634014}}\n",
      "{'_index': 'ratings', '_type': 'rating', '_id': 'hu0ac2YBSMzvaMU4uJQm', '_score': 4.6106668, '_source': {'user_id': 228, 'movie_id': 68358, 'title': 'Star Trek (2009)', 'rating': 3.5, 'timestamp': 1449332380}}\n",
      "{'_index': 'ratings', '_type': 'rating', '_id': 'fO0ac2YBSMzvaMU4w6xV', '_score': 4.6106668, '_source': {'user_id': 270, 'movie_id': 68358, 'title': 'Star Trek (2009)', 'rating': 3.5, 'timestamp': 1469278482}}\n",
      "{'_index': 'ratings', '_type': 'rating', '_id': 'r-0ac2YBSMzvaMU4xbPE', '_score': 4.6106668, '_source': {'user_id': 287, 'movie_id': 68358, 'title': 'Star Trek (2009)', 'rating': 4.5, 'timestamp': 1473445047}}\n"
     ]
    }
   ],
   "source": [
    "if es is not None:\n",
    "    search_object = {'query': {'match': {'title': 'star'}}}\n",
    "    search(es, 'ratings', json.dumps(search_object))"
   ]
  },
  {
   "cell_type": "code",
   "execution_count": null,
   "metadata": {
    "collapsed": true
   },
   "outputs": [],
   "source": []
  }
 ],
 "metadata": {
  "kernelspec": {
   "display_name": "Python 3",
   "language": "python",
   "name": "python3"
  },
  "language_info": {
   "codemirror_mode": {
    "name": "ipython",
    "version": 3
   },
   "file_extension": ".py",
   "mimetype": "text/x-python",
   "name": "python",
   "nbconvert_exporter": "python",
   "pygments_lexer": "ipython3",
   "version": "3.6.2"
  }
 },
 "nbformat": 4,
 "nbformat_minor": 2
}
