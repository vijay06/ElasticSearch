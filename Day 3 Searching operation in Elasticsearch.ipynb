{
 "cells": [
  {
   "cell_type": "code",
   "execution_count": 3,
   "metadata": {
    "collapsed": true
   },
   "outputs": [],
   "source": [
    "import csv\n",
    "from collections import deque\n",
    "import elasticsearch\n",
    "from elasticsearch import helpers\n",
    "import json\n",
    "import pandas as pd"
   ]
  },
  {
   "cell_type": "code",
   "execution_count": 4,
   "metadata": {
    "collapsed": true
   },
   "outputs": [],
   "source": [
    "def search(es_object, index_name, search):\n",
    "    res = es_object.search(index=index_name, body=search)\n",
    "    data=(res['hits']['hits'])\n",
    "    for i in data:\n",
    "        print(i)"
   ]
  },
  {
   "cell_type": "code",
   "execution_count": 5,
   "metadata": {
    "collapsed": true
   },
   "outputs": [],
   "source": [
    "es = elasticsearch.Elasticsearch()"
   ]
  },
  {
   "cell_type": "code",
   "execution_count": 6,
   "metadata": {},
   "outputs": [
    {
     "name": "stdout",
     "output_type": "stream",
     "text": [
      "{'_index': 'movies', '_type': 'movie', '_id': '14', '_score': 1.0, '_source': {'id': '14', 'title': 'Nixon', 'year': 1995, 'genre': ['Drama']}}\n",
      "{'_index': 'movies', '_type': 'movie', '_id': '19', '_score': 1.0, '_source': {'id': '19', 'title': 'Ace Ventura: When Nature Calls', 'year': 1995, 'genre': ['Comedy']}}\n",
      "{'_index': 'movies', '_type': 'movie', '_id': '22', '_score': 1.0, '_source': {'id': '22', 'title': 'Copycat', 'year': 1995, 'genre': ['Crime', 'Drama', 'Horror', 'Mystery', 'Thriller']}}\n",
      "{'_index': 'movies', '_type': 'movie', '_id': '24', '_score': 1.0, '_source': {'id': '24', 'title': 'Powder', 'year': 1995, 'genre': ['Drama', 'Sci-Fi']}}\n",
      "{'_index': 'movies', '_type': 'movie', '_id': '25', '_score': 1.0, '_source': {'id': '25', 'title': 'Leaving Las Vegas', 'year': 1995, 'genre': ['Drama', 'Romance']}}\n",
      "{'_index': 'movies', '_type': 'movie', '_id': '26', '_score': 1.0, '_source': {'id': '26', 'title': 'Othello', 'year': 1995, 'genre': ['Drama']}}\n",
      "{'_index': 'movies', '_type': 'movie', '_id': '29', '_score': 1.0, '_source': {'id': '29', 'title': 'City of Lost Children, The', 'year': 1995, 'genre': ['Adventure', 'Drama', 'Fantasy', 'Mystery', 'Sci-Fi']}}\n",
      "{'_index': 'movies', '_type': 'movie', '_id': '40', '_score': 1.0, '_source': {'id': '40', 'title': 'Cry, the Beloved Country', 'year': 1995, 'genre': ['Drama']}}\n",
      "{'_index': 'movies', '_type': 'movie', '_id': '41', '_score': 1.0, '_source': {'id': '41', 'title': 'Richard III', 'year': 1995, 'genre': ['Drama', 'War']}}\n",
      "{'_index': 'movies', '_type': 'movie', '_id': '44', '_score': 1.0, '_source': {'id': '44', 'title': 'Mortal Kombat', 'year': 1995, 'genre': ['Action', 'Adventure', 'Fantasy']}}\n"
     ]
    }
   ],
   "source": [
    "if es is not None:\n",
    "    search_object = {'query': {'match_all': {}}}\n",
    "    search(es, 'movies', json.dumps(search_object))"
   ]
  },
  {
   "cell_type": "code",
   "execution_count": 7,
   "metadata": {},
   "outputs": [
    {
     "name": "stdout",
     "output_type": "stream",
     "text": [
      "{'_index': 'movies', '_type': 'movie', '_id': '800', '_score': 6.6676626, '_source': {'id': '800', 'title': 'Lone Star', 'year': 1996, 'genre': ['Drama', 'Mystery', 'Western']}}\n",
      "{'_index': 'movies', '_type': 'movie', '_id': '26487', '_score': 6.6676626, '_source': {'id': '26487', 'title': 'Star 80', 'year': 1983, 'genre': ['Drama']}}\n",
      "{'_index': 'movies', '_type': 'movie', '_id': '68358', '_score': 6.148418, '_source': {'id': '68358', 'title': 'Star Trek', 'year': 2009, 'genre': ['Action', 'Adventure', 'Sci-Fi', 'IMAX']}}\n",
      "{'_index': 'movies', '_type': 'movie', '_id': '1750', '_score': 6.1114826, '_source': {'id': '1750', 'title': 'Star Kid', 'year': 1997, 'genre': ['Adventure', 'Children', 'Fantasy', 'Sci-Fi']}}\n",
      "{'_index': 'movies', '_type': 'movie', '_id': '1613', '_score': 5.9873433, '_source': {'id': '1613', 'title': 'Star Maps', 'year': 1997, 'genre': ['Drama']}}\n",
      "{'_index': 'movies', '_type': 'movie', '_id': '4757', '_score': 5.9873433, '_source': {'id': '4757', 'title': 'Rock Star', 'year': 2001, 'genre': ['Comedy', 'Drama', 'Musical']}}\n",
      "{'_index': 'movies', '_type': 'movie', '_id': '1410', '_score': 5.7487836, '_source': {'id': '1410', 'title': 'Evening Star, The', 'year': 1996, 'genre': ['Comedy', 'Drama']}}\n",
      "{'_index': 'movies', '_type': 'movie', '_id': '2393', '_score': 5.2842703, '_source': {'id': '2393', 'title': 'Star Trek: Insurrection', 'year': 1998, 'genre': ['Action', 'Drama', 'Romance', 'Sci-Fi']}}\n",
      "{'_index': 'movies', '_type': 'movie', '_id': '124', '_score': 5.258209, '_source': {'id': '124', 'title': 'Star Maker, The', 'year': 1995, 'genre': ['Drama']}}\n",
      "{'_index': 'movies', '_type': 'movie', '_id': '84414', '_score': 5.258209, '_source': {'id': '84414', 'title': 'All-Star Superman', 'year': 2011, 'genre': ['Action', 'Adventure', 'Animation', 'Sci-Fi']}}\n"
     ]
    }
   ],
   "source": [
    "if es is not None:\n",
    "    search_object = {'query': {'match': {'title': 'star'}}}\n",
    "    search(es, 'movies', json.dumps(search_object))"
   ]
  },
  {
   "cell_type": "code",
   "execution_count": 8,
   "metadata": {
    "collapsed": true
   },
   "outputs": [],
   "source": [
    "query={\n",
    "        \"query\": {\n",
    "                \"bool\": {\n",
    "\n",
    "                        \"must\": {\"term\":{\"title\":\"trek\"}},\n",
    "                        \"filter\":{\"range\":{\"year\":{\"gte\":2010 ,\"lte\":2015}}}\n",
    "                }\n",
    "}\n",
    "}"
   ]
  },
  {
   "cell_type": "code",
   "execution_count": 9,
   "metadata": {},
   "outputs": [
    {
     "name": "stdout",
     "output_type": "stream",
     "text": [
      "{'_index': 'movies', '_type': 'movie', '_id': '102445', '_score': 5.6655273, '_source': {'id': '102445', 'title': 'Star Trek Into Darkness', 'year': 2013, 'genre': ['Action', 'Adventure', 'Sci-Fi', 'IMAX']}}\n"
     ]
    }
   ],
   "source": [
    "if es is not None:\n",
    "    search(es, 'movies', json.dumps(query))"
   ]
  },
  {
   "cell_type": "markdown",
   "metadata": {},
   "source": [
    "# phrase Search"
   ]
  },
  {
   "cell_type": "code",
   "execution_count": 10,
   "metadata": {
    "collapsed": true
   },
   "outputs": [],
   "source": [
    "query={\n",
    "        \"query\":{\n",
    "                \"match_phrase\":{\n",
    "                        \"title\":\"star wars\"\n",
    "                        }\n",
    "        }\n",
    "}"
   ]
  },
  {
   "cell_type": "code",
   "execution_count": 11,
   "metadata": {},
   "outputs": [
    {
     "name": "stdout",
     "output_type": "stream",
     "text": [
      "{'_index': 'movies', '_type': 'movie', '_id': '61160', '_score': 9.0328455, '_source': {'id': '61160', 'title': 'Star Wars: The Clone Wars', 'year': 2008, 'genre': ['Action', 'Adventure', 'Animation', 'Sci-Fi']}}\n",
      "{'_index': 'movies', '_type': 'movie', '_id': '122886', '_score': 8.243248, '_source': {'id': '122886', 'title': 'Star Wars: Episode VII - The Force Awakens', 'year': 2015, 'genre': ['Action', 'Adventure', 'Fantasy', 'Sci-Fi', 'IMAX']}}\n",
      "{'_index': 'movies', '_type': 'movie', '_id': '2628', '_score': 7.3078375, '_source': {'id': '2628', 'title': 'Star Wars: Episode I - The Phantom Menace', 'year': 1999, 'genre': ['Action', 'Adventure', 'Sci-Fi']}}\n",
      "{'_index': 'movies', '_type': 'movie', '_id': '260', '_score': 7.0923066, '_source': {'id': '260', 'title': 'Star Wars: Episode IV - A New Hope', 'year': 1977, 'genre': ['Action', 'Adventure', 'Sci-Fi']}}\n",
      "{'_index': 'movies', '_type': 'movie', '_id': '33493', '_score': 6.7893915, '_source': {'id': '33493', 'title': 'Star Wars: Episode III - Revenge of the Sith', 'year': 2005, 'genre': ['Action', 'Adventure', 'Sci-Fi']}}\n",
      "{'_index': 'movies', '_type': 'movie', '_id': '1196', '_score': 6.706983, '_source': {'id': '1196', 'title': 'Star Wars: Episode V - The Empire Strikes Back', 'year': 1980, 'genre': ['Action', 'Adventure', 'Sci-Fi']}}\n",
      "{'_index': 'movies', '_type': 'movie', '_id': '1210', '_score': 6.5078487, '_source': {'id': '1210', 'title': 'Star Wars: Episode VI - Return of the Jedi', 'year': 1983, 'genre': ['Action', 'Adventure', 'Sci-Fi']}}\n",
      "{'_index': 'movies', '_type': 'movie', '_id': '5378', '_score': 6.5078487, '_source': {'id': '5378', 'title': 'Star Wars: Episode II - Attack of the Clones', 'year': 2002, 'genre': ['Action', 'Adventure', 'Sci-Fi', 'IMAX']}}\n",
      "{'_index': 'movies', '_type': 'movie', '_id': '79006', '_score': 5.5870247, '_source': {'id': '79006', 'title': \"Empire of Dreams: The Story of the 'Star Wars' Trilogy\", 'year': 2004, 'genre': ['Documentary']}}\n"
     ]
    }
   ],
   "source": [
    "if es is not None:\n",
    "    search(es, 'movies', json.dumps(query))"
   ]
  },
  {
   "cell_type": "markdown",
   "metadata": {},
   "source": [
    "# Slop"
   ]
  },
  {
   "cell_type": "code",
   "execution_count": 12,
   "metadata": {
    "collapsed": true
   },
   "outputs": [],
   "source": [
    "query={\n",
    "        \"query\":{\n",
    "                \"match_phrase\":{\n",
    "                        \"title\":{\"query\":\"City  Lost\",\"slop\":1}\n",
    "                        }\n",
    "        }\n",
    "}"
   ]
  },
  {
   "cell_type": "code",
   "execution_count": 13,
   "metadata": {},
   "outputs": [
    {
     "name": "stdout",
     "output_type": "stream",
     "text": [
      "{'_index': 'movies', '_type': 'movie', '_id': '29', '_score': 5.7431884, '_source': {'id': '29', 'title': 'City of Lost Children, The', 'year': 1995, 'genre': ['Adventure', 'Drama', 'Fantasy', 'Mystery', 'Sci-Fi']}}\n"
     ]
    }
   ],
   "source": [
    "if es is not None:\n",
    "    search(es,'movies',json.dumps(query))"
   ]
  },
  {
   "cell_type": "markdown",
   "metadata": {},
   "source": [
    "# Proximity(higher slop value)"
   ]
  },
  {
   "cell_type": "code",
   "execution_count": 14,
   "metadata": {
    "collapsed": true
   },
   "outputs": [],
   "source": [
    "query={\n",
    "        \"query\":{\n",
    "                \"match_phrase\":{\n",
    "                        \"title\":{\"query\":\"City  Lost\",\"slop\":100}\n",
    "                        }\n",
    "        }\n",
    "}"
   ]
  },
  {
   "cell_type": "code",
   "execution_count": 15,
   "metadata": {},
   "outputs": [
    {
     "name": "stdout",
     "output_type": "stream",
     "text": [
      "{'_index': 'movies', '_type': 'movie', '_id': '29', '_score': 5.7431884, '_source': {'id': '29', 'title': 'City of Lost Children, The', 'year': 1995, 'genre': ['Adventure', 'Drama', 'Fantasy', 'Mystery', 'Sci-Fi']}}\n",
      "{'_index': 'movies', '_type': 'movie', '_id': '2748', '_score': 2.4307554, '_source': {'id': '2748', 'title': 'Allan Quatermain and the Lost City of Gold', 'year': 1987, 'genre': ['Action', 'Adventure', 'Comedy']}}\n"
     ]
    }
   ],
   "source": [
    "if es is not None:\n",
    "    search(es,'movies',json.dumps(query))"
   ]
  },
  {
   "cell_type": "markdown",
   "metadata": {},
   "source": [
    "# Pagination"
   ]
  },
  {
   "cell_type": "code",
   "execution_count": 16,
   "metadata": {
    "collapsed": true
   },
   "outputs": [],
   "source": [
    "query={\n",
    "        \"from\":2,\n",
    "        \"size\":2,\n",
    "        \"query\":{\"match\":{\"genre\":\"Sci-Fi\"}}\n",
    "}"
   ]
  },
  {
   "cell_type": "code",
   "execution_count": 17,
   "metadata": {},
   "outputs": [
    {
     "name": "stdout",
     "output_type": "stream",
     "text": [
      "{'_index': 'movies', '_type': 'movie', '_id': '44671', '_score': 5.398667, '_source': {'id': '44671', 'title': 'Wild Blue Yonder, The', 'year': 2005, 'genre': ['Sci-Fi']}}\n",
      "{'_index': 'movies', '_type': 'movie', '_id': '72630', '_score': 5.398667, '_source': {'id': '72630', 'title': 'Sleep Dealer', 'year': 2008, 'genre': ['Sci-Fi']}}\n"
     ]
    }
   ],
   "source": [
    "if es is not None:\n",
    "    search(es,'movies',json.dumps(query))"
   ]
  },
  {
   "cell_type": "markdown",
   "metadata": {},
   "source": [
    "# Sorting"
   ]
  },
  {
   "cell_type": "code",
   "execution_count": 31,
   "metadata": {
    "collapsed": true
   },
   "outputs": [],
   "source": [
    "query={\n",
    "         \"sort\":\"title\"   \n",
    "}"
   ]
  },
  {
   "cell_type": "code",
   "execution_count": 32,
   "metadata": {
    "scrolled": true
   },
   "outputs": [
    {
     "name": "stderr",
     "output_type": "stream",
     "text": [
      "GET http://localhost:9200/movies/_search [status:400 request:0.013s]\n"
     ]
    },
    {
     "ename": "RequestError",
     "evalue": "TransportError(400, 'search_phase_execution_exception', 'Fielddata is disabled on text fields by default. Set fielddata=true on [title] in order to load fielddata in memory by uninverting the inverted index. Note that this can however use significant memory. Alternatively use a keyword field instead.')",
     "output_type": "error",
     "traceback": [
      "\u001b[0;31m---------------------------------------------------------------------------\u001b[0m",
      "\u001b[0;31mRequestError\u001b[0m                              Traceback (most recent call last)",
      "\u001b[0;32m<ipython-input-32-bcf78a0748ee>\u001b[0m in \u001b[0;36m<module>\u001b[0;34m()\u001b[0m\n\u001b[1;32m      1\u001b[0m \u001b[0;32mif\u001b[0m \u001b[0mes\u001b[0m \u001b[0;32mis\u001b[0m \u001b[0;32mnot\u001b[0m \u001b[0;32mNone\u001b[0m\u001b[0;34m:\u001b[0m\u001b[0;34m\u001b[0m\u001b[0m\n\u001b[0;32m----> 2\u001b[0;31m     \u001b[0msearch\u001b[0m\u001b[0;34m(\u001b[0m\u001b[0mes\u001b[0m\u001b[0;34m,\u001b[0m\u001b[0;34m'movies'\u001b[0m\u001b[0;34m,\u001b[0m\u001b[0mjson\u001b[0m\u001b[0;34m.\u001b[0m\u001b[0mdumps\u001b[0m\u001b[0;34m(\u001b[0m\u001b[0mquery\u001b[0m\u001b[0;34m)\u001b[0m\u001b[0;34m)\u001b[0m\u001b[0;34m\u001b[0m\u001b[0m\n\u001b[0m",
      "\u001b[0;32m<ipython-input-4-ea3375b204be>\u001b[0m in \u001b[0;36msearch\u001b[0;34m(es_object, index_name, search)\u001b[0m\n\u001b[1;32m      1\u001b[0m \u001b[0;32mdef\u001b[0m \u001b[0msearch\u001b[0m\u001b[0;34m(\u001b[0m\u001b[0mes_object\u001b[0m\u001b[0;34m,\u001b[0m \u001b[0mindex_name\u001b[0m\u001b[0;34m,\u001b[0m \u001b[0msearch\u001b[0m\u001b[0;34m)\u001b[0m\u001b[0;34m:\u001b[0m\u001b[0;34m\u001b[0m\u001b[0m\n\u001b[0;32m----> 2\u001b[0;31m     \u001b[0mres\u001b[0m \u001b[0;34m=\u001b[0m \u001b[0mes_object\u001b[0m\u001b[0;34m.\u001b[0m\u001b[0msearch\u001b[0m\u001b[0;34m(\u001b[0m\u001b[0mindex\u001b[0m\u001b[0;34m=\u001b[0m\u001b[0mindex_name\u001b[0m\u001b[0;34m,\u001b[0m \u001b[0mbody\u001b[0m\u001b[0;34m=\u001b[0m\u001b[0msearch\u001b[0m\u001b[0;34m)\u001b[0m\u001b[0;34m\u001b[0m\u001b[0m\n\u001b[0m\u001b[1;32m      3\u001b[0m     \u001b[0mdata\u001b[0m\u001b[0;34m=\u001b[0m\u001b[0;34m(\u001b[0m\u001b[0mres\u001b[0m\u001b[0;34m[\u001b[0m\u001b[0;34m'hits'\u001b[0m\u001b[0;34m]\u001b[0m\u001b[0;34m[\u001b[0m\u001b[0;34m'hits'\u001b[0m\u001b[0;34m]\u001b[0m\u001b[0;34m)\u001b[0m\u001b[0;34m\u001b[0m\u001b[0m\n\u001b[1;32m      4\u001b[0m     \u001b[0;32mfor\u001b[0m \u001b[0mi\u001b[0m \u001b[0;32min\u001b[0m \u001b[0mdata\u001b[0m\u001b[0;34m:\u001b[0m\u001b[0;34m\u001b[0m\u001b[0m\n\u001b[1;32m      5\u001b[0m         \u001b[0mprint\u001b[0m\u001b[0;34m(\u001b[0m\u001b[0mi\u001b[0m\u001b[0;34m)\u001b[0m\u001b[0;34m\u001b[0m\u001b[0m\n",
      "\u001b[0;32m/home/vijay/anaconda3/lib/python3.6/site-packages/elasticsearch/client/utils.py\u001b[0m in \u001b[0;36m_wrapped\u001b[0;34m(*args, **kwargs)\u001b[0m\n\u001b[1;32m     74\u001b[0m                 \u001b[0;32mif\u001b[0m \u001b[0mp\u001b[0m \u001b[0;32min\u001b[0m \u001b[0mkwargs\u001b[0m\u001b[0;34m:\u001b[0m\u001b[0;34m\u001b[0m\u001b[0m\n\u001b[1;32m     75\u001b[0m                     \u001b[0mparams\u001b[0m\u001b[0;34m[\u001b[0m\u001b[0mp\u001b[0m\u001b[0;34m]\u001b[0m \u001b[0;34m=\u001b[0m \u001b[0mkwargs\u001b[0m\u001b[0;34m.\u001b[0m\u001b[0mpop\u001b[0m\u001b[0;34m(\u001b[0m\u001b[0mp\u001b[0m\u001b[0;34m)\u001b[0m\u001b[0;34m\u001b[0m\u001b[0m\n\u001b[0;32m---> 76\u001b[0;31m             \u001b[0;32mreturn\u001b[0m \u001b[0mfunc\u001b[0m\u001b[0;34m(\u001b[0m\u001b[0;34m*\u001b[0m\u001b[0margs\u001b[0m\u001b[0;34m,\u001b[0m \u001b[0mparams\u001b[0m\u001b[0;34m=\u001b[0m\u001b[0mparams\u001b[0m\u001b[0;34m,\u001b[0m \u001b[0;34m**\u001b[0m\u001b[0mkwargs\u001b[0m\u001b[0;34m)\u001b[0m\u001b[0;34m\u001b[0m\u001b[0m\n\u001b[0m\u001b[1;32m     77\u001b[0m         \u001b[0;32mreturn\u001b[0m \u001b[0m_wrapped\u001b[0m\u001b[0;34m\u001b[0m\u001b[0m\n\u001b[1;32m     78\u001b[0m     \u001b[0;32mreturn\u001b[0m \u001b[0m_wrapper\u001b[0m\u001b[0;34m\u001b[0m\u001b[0m\n",
      "\u001b[0;32m/home/vijay/anaconda3/lib/python3.6/site-packages/elasticsearch/client/__init__.py\u001b[0m in \u001b[0;36msearch\u001b[0;34m(self, index, doc_type, body, params)\u001b[0m\n\u001b[1;32m    653\u001b[0m             \u001b[0mindex\u001b[0m \u001b[0;34m=\u001b[0m \u001b[0;34m'_all'\u001b[0m\u001b[0;34m\u001b[0m\u001b[0m\n\u001b[1;32m    654\u001b[0m         return self.transport.perform_request('GET', _make_path(index,\n\u001b[0;32m--> 655\u001b[0;31m             doc_type, '_search'), params=params, body=body)\n\u001b[0m\u001b[1;32m    656\u001b[0m \u001b[0;34m\u001b[0m\u001b[0m\n\u001b[1;32m    657\u001b[0m     @query_params('_source', '_source_exclude', '_source_include',\n",
      "\u001b[0;32m/home/vijay/anaconda3/lib/python3.6/site-packages/elasticsearch/transport.py\u001b[0m in \u001b[0;36mperform_request\u001b[0;34m(self, method, url, headers, params, body)\u001b[0m\n\u001b[1;32m    316\u001b[0m                 \u001b[0mdelay\u001b[0m \u001b[0;34m=\u001b[0m \u001b[0;36m2\u001b[0m\u001b[0;34m**\u001b[0m\u001b[0mattempt\u001b[0m \u001b[0;34m-\u001b[0m \u001b[0;36m1\u001b[0m\u001b[0;34m\u001b[0m\u001b[0m\n\u001b[1;32m    317\u001b[0m                 \u001b[0mtime\u001b[0m\u001b[0;34m.\u001b[0m\u001b[0msleep\u001b[0m\u001b[0;34m(\u001b[0m\u001b[0mdelay\u001b[0m\u001b[0;34m)\u001b[0m\u001b[0;34m\u001b[0m\u001b[0m\n\u001b[0;32m--> 318\u001b[0;31m                 \u001b[0mstatus\u001b[0m\u001b[0;34m,\u001b[0m \u001b[0mheaders_response\u001b[0m\u001b[0;34m,\u001b[0m \u001b[0mdata\u001b[0m \u001b[0;34m=\u001b[0m \u001b[0mconnection\u001b[0m\u001b[0;34m.\u001b[0m\u001b[0mperform_request\u001b[0m\u001b[0;34m(\u001b[0m\u001b[0mmethod\u001b[0m\u001b[0;34m,\u001b[0m \u001b[0murl\u001b[0m\u001b[0;34m,\u001b[0m \u001b[0mparams\u001b[0m\u001b[0;34m,\u001b[0m \u001b[0mbody\u001b[0m\u001b[0;34m,\u001b[0m \u001b[0mheaders\u001b[0m\u001b[0;34m=\u001b[0m\u001b[0mheaders\u001b[0m\u001b[0;34m,\u001b[0m \u001b[0mignore\u001b[0m\u001b[0;34m=\u001b[0m\u001b[0mignore\u001b[0m\u001b[0;34m,\u001b[0m \u001b[0mtimeout\u001b[0m\u001b[0;34m=\u001b[0m\u001b[0mtimeout\u001b[0m\u001b[0;34m)\u001b[0m\u001b[0;34m\u001b[0m\u001b[0m\n\u001b[0m\u001b[1;32m    319\u001b[0m \u001b[0;34m\u001b[0m\u001b[0m\n\u001b[1;32m    320\u001b[0m             \u001b[0;32mexcept\u001b[0m \u001b[0mTransportError\u001b[0m \u001b[0;32mas\u001b[0m \u001b[0me\u001b[0m\u001b[0;34m:\u001b[0m\u001b[0;34m\u001b[0m\u001b[0m\n",
      "\u001b[0;32m/home/vijay/anaconda3/lib/python3.6/site-packages/elasticsearch/connection/http_urllib3.py\u001b[0m in \u001b[0;36mperform_request\u001b[0;34m(self, method, url, params, body, timeout, ignore, headers)\u001b[0m\n\u001b[1;32m    183\u001b[0m         \u001b[0;32mif\u001b[0m \u001b[0;32mnot\u001b[0m \u001b[0;34m(\u001b[0m\u001b[0;36m200\u001b[0m \u001b[0;34m<=\u001b[0m \u001b[0mresponse\u001b[0m\u001b[0;34m.\u001b[0m\u001b[0mstatus\u001b[0m \u001b[0;34m<\u001b[0m \u001b[0;36m300\u001b[0m\u001b[0;34m)\u001b[0m \u001b[0;32mand\u001b[0m \u001b[0mresponse\u001b[0m\u001b[0;34m.\u001b[0m\u001b[0mstatus\u001b[0m \u001b[0;32mnot\u001b[0m \u001b[0;32min\u001b[0m \u001b[0mignore\u001b[0m\u001b[0;34m:\u001b[0m\u001b[0;34m\u001b[0m\u001b[0m\n\u001b[1;32m    184\u001b[0m             \u001b[0mself\u001b[0m\u001b[0;34m.\u001b[0m\u001b[0mlog_request_fail\u001b[0m\u001b[0;34m(\u001b[0m\u001b[0mmethod\u001b[0m\u001b[0;34m,\u001b[0m \u001b[0mfull_url\u001b[0m\u001b[0;34m,\u001b[0m \u001b[0murl\u001b[0m\u001b[0;34m,\u001b[0m \u001b[0mbody\u001b[0m\u001b[0;34m,\u001b[0m \u001b[0mduration\u001b[0m\u001b[0;34m,\u001b[0m \u001b[0mresponse\u001b[0m\u001b[0;34m.\u001b[0m\u001b[0mstatus\u001b[0m\u001b[0;34m,\u001b[0m \u001b[0mraw_data\u001b[0m\u001b[0;34m)\u001b[0m\u001b[0;34m\u001b[0m\u001b[0m\n\u001b[0;32m--> 185\u001b[0;31m             \u001b[0mself\u001b[0m\u001b[0;34m.\u001b[0m\u001b[0m_raise_error\u001b[0m\u001b[0;34m(\u001b[0m\u001b[0mresponse\u001b[0m\u001b[0;34m.\u001b[0m\u001b[0mstatus\u001b[0m\u001b[0;34m,\u001b[0m \u001b[0mraw_data\u001b[0m\u001b[0;34m)\u001b[0m\u001b[0;34m\u001b[0m\u001b[0m\n\u001b[0m\u001b[1;32m    186\u001b[0m \u001b[0;34m\u001b[0m\u001b[0m\n\u001b[1;32m    187\u001b[0m         self.log_request_success(method, full_url, url, body, response.status,\n",
      "\u001b[0;32m/home/vijay/anaconda3/lib/python3.6/site-packages/elasticsearch/connection/base.py\u001b[0m in \u001b[0;36m_raise_error\u001b[0;34m(self, status_code, raw_data)\u001b[0m\n\u001b[1;32m    123\u001b[0m             \u001b[0mlogger\u001b[0m\u001b[0;34m.\u001b[0m\u001b[0mwarning\u001b[0m\u001b[0;34m(\u001b[0m\u001b[0;34m'Undecodable raw error response from server: %s'\u001b[0m\u001b[0;34m,\u001b[0m \u001b[0merr\u001b[0m\u001b[0;34m)\u001b[0m\u001b[0;34m\u001b[0m\u001b[0m\n\u001b[1;32m    124\u001b[0m \u001b[0;34m\u001b[0m\u001b[0m\n\u001b[0;32m--> 125\u001b[0;31m         \u001b[0;32mraise\u001b[0m \u001b[0mHTTP_EXCEPTIONS\u001b[0m\u001b[0;34m.\u001b[0m\u001b[0mget\u001b[0m\u001b[0;34m(\u001b[0m\u001b[0mstatus_code\u001b[0m\u001b[0;34m,\u001b[0m \u001b[0mTransportError\u001b[0m\u001b[0;34m)\u001b[0m\u001b[0;34m(\u001b[0m\u001b[0mstatus_code\u001b[0m\u001b[0;34m,\u001b[0m \u001b[0merror_message\u001b[0m\u001b[0;34m,\u001b[0m \u001b[0madditional_info\u001b[0m\u001b[0;34m)\u001b[0m\u001b[0;34m\u001b[0m\u001b[0m\n\u001b[0m\u001b[1;32m    126\u001b[0m \u001b[0;34m\u001b[0m\u001b[0m\n\u001b[1;32m    127\u001b[0m \u001b[0;34m\u001b[0m\u001b[0m\n",
      "\u001b[0;31mRequestError\u001b[0m: TransportError(400, 'search_phase_execution_exception', 'Fielddata is disabled on text fields by default. Set fielddata=true on [title] in order to load fielddata in memory by uninverting the inverted index. Note that this can however use significant memory. Alternatively use a keyword field instead.')"
     ]
    }
   ],
   "source": [
    "if es is not None:\n",
    "    search(es,'movies',json.dumps(query))"
   ]
  },
  {
   "cell_type": "markdown",
   "metadata": {
    "collapsed": true
   },
   "source": [
    "will lead to error ,why because by default the field title properties is set for analysis,thas why we are getting the related item when searching.so to order based on item ,while creating the index itself we have to mention that properties.  "
   ]
  },
  {
   "cell_type": "code",
   "execution_count": 26,
   "metadata": {},
   "outputs": [
    {
     "data": {
      "text/plain": [
       "{'acknowledged': True}"
      ]
     },
     "execution_count": 26,
     "metadata": {},
     "output_type": "execute_result"
    }
   ],
   "source": [
    "es.indices.delete(index='movies')"
   ]
  },
  {
   "cell_type": "code",
   "execution_count": 28,
   "metadata": {},
   "outputs": [],
   "source": [
    "settings = {\n",
    "\"mappings\": {\n",
    "\"movie\": {\n",
    "\"properties\": {\n",
    "\"title\": {\n",
    "\"type\": \"text\",\"fields\":{\"raw\":{\"type\":\"keyword\"}}\n",
    "}\n",
    "}\n",
    "}\n",
    "}\n",
    "}"
   ]
  },
  {
   "cell_type": "code",
   "execution_count": 29,
   "metadata": {},
   "outputs": [
    {
     "data": {
      "text/plain": [
       "{'acknowledged': True, 'index': 'movies', 'shards_acknowledged': True}"
      ]
     },
     "execution_count": 29,
     "metadata": {},
     "output_type": "execute_result"
    }
   ],
   "source": [
    "es.indices.create(index=\"movies\", ignore=400, body=settings)"
   ]
  },
  {
   "cell_type": "code",
   "execution_count": 30,
   "metadata": {
    "scrolled": true
   },
   "outputs": [
    {
     "name": "stdout",
     "output_type": "stream",
     "text": [
      "{\r\n",
      "  \"took\" : 403,\r\n",
      "  \"errors\" : false,\r\n",
      "  \"items\" : [\r\n",
      "    {\r\n",
      "      \"create\" : {\r\n",
      "        \"_index\" : \"movies\",\r\n",
      "        \"_type\" : \"movie\",\r\n",
      "        \"_id\" : \"135569\",\r\n",
      "        \"_version\" : 1,\r\n",
      "        \"result\" : \"created\",\r\n",
      "        \"_shards\" : {\r\n",
      "          \"total\" : 2,\r\n",
      "          \"successful\" : 1,\r\n",
      "          \"failed\" : 0\r\n",
      "        },\r\n",
      "        \"_seq_no\" : 0,\r\n",
      "        \"_primary_term\" : 1,\r\n",
      "        \"status\" : 201\r\n",
      "      }\r\n",
      "    },\r\n",
      "    {\r\n",
      "      \"create\" : {\r\n",
      "        \"_index\" : \"movies\",\r\n",
      "        \"_type\" : \"movie\",\r\n",
      "        \"_id\" : \"122886\",\r\n",
      "        \"_version\" : 1,\r\n",
      "        \"result\" : \"created\",\r\n",
      "        \"_shards\" : {\r\n",
      "          \"total\" : 2,\r\n",
      "          \"successful\" : 1,\r\n",
      "          \"failed\" : 0\r\n",
      "        },\r\n",
      "        \"_seq_no\" : 0,\r\n",
      "        \"_primary_term\" : 1,\r\n",
      "        \"status\" : 201\r\n",
      "      }\r\n",
      "    },\r\n",
      "    {\r\n",
      "      \"create\" : {\r\n",
      "        \"_index\" : \"movies\",\r\n",
      "        \"_type\" : \"movie\",\r\n",
      "        \"_id\" : \"109487\",\r\n",
      "        \"_version\" : 1,\r\n",
      "        \"result\" : \"created\",\r\n",
      "        \"_shards\" : {\r\n",
      "          \"total\" : 2,\r\n",
      "          \"successful\" : 1,\r\n",
      "          \"failed\" : 0\r\n",
      "        },\r\n",
      "        \"_seq_no\" : 1,\r\n",
      "        \"_primary_term\" : 1,\r\n",
      "        \"status\" : 201\r\n",
      "      }\r\n",
      "    },\r\n",
      "    {\r\n",
      "      \"create\" : {\r\n",
      "        \"_index\" : \"movies\",\r\n",
      "        \"_type\" : \"movie\",\r\n",
      "        \"_id\" : \"58559\",\r\n",
      "        \"_version\" : 1,\r\n",
      "        \"result\" : \"created\",\r\n",
      "        \"_shards\" : {\r\n",
      "          \"total\" : 2,\r\n",
      "          \"successful\" : 1,\r\n",
      "          \"failed\" : 0\r\n",
      "        },\r\n",
      "        \"_seq_no\" : 2,\r\n",
      "        \"_primary_term\" : 1,\r\n",
      "        \"status\" : 201\r\n",
      "      }\r\n",
      "    },\r\n",
      "    {\r\n",
      "      \"create\" : {\r\n",
      "        \"_index\" : \"movies\",\r\n",
      "        \"_type\" : \"movie\",\r\n",
      "        \"_id\" : \"1924\",\r\n",
      "        \"_version\" : 1,\r\n",
      "        \"result\" : \"created\",\r\n",
      "        \"_shards\" : {\r\n",
      "          \"total\" : 2,\r\n",
      "          \"successful\" : 1,\r\n",
      "          \"failed\" : 0\r\n",
      "        },\r\n",
      "        \"_seq_no\" : 0,\r\n",
      "        \"_primary_term\" : 1,\r\n",
      "        \"status\" : 201\r\n",
      "      }\r\n",
      "    }\r\n",
      "  ]\r\n",
      "}\r\n"
     ]
    }
   ],
   "source": [
    "!curl -H \"Content-Type:application/json\" -XPUT 127.0.0.1:9200/_bulk?pretty --data-binary @movies.json"
   ]
  },
  {
   "cell_type": "code",
   "execution_count": 33,
   "metadata": {
    "collapsed": true
   },
   "outputs": [],
   "source": [
    "query={\n",
    "         \"sort\":\"title.raw\"   \n",
    "}"
   ]
  },
  {
   "cell_type": "code",
   "execution_count": 34,
   "metadata": {},
   "outputs": [
    {
     "name": "stdout",
     "output_type": "stream",
     "text": [
      "{'_index': 'movies', '_type': 'movie', '_id': '58559', '_score': None, '_source': {'id': '58559', 'title': 'Dark Knight, The', 'year': 2008, 'genre': ['Action', 'Crime', 'Drama', 'IMAX']}, 'sort': ['Dark Knight, The']}\n",
      "{'_index': 'movies', '_type': 'movie', '_id': '109487', '_score': None, '_source': {'id': '109487', 'title': 'Interstellar', 'year': 2014, 'genre': ['Sci-Fi', 'IMAX']}, 'sort': ['Interstellar']}\n",
      "{'_index': 'movies', '_type': 'movie', '_id': '1924', '_score': None, '_source': {'id': '1924', 'title': 'Plan 9 from Outer Space', 'year': 1959, 'genre': ['Horror', 'Sci-Fi']}, 'sort': ['Plan 9 from Outer Space']}\n",
      "{'_index': 'movies', '_type': 'movie', '_id': '135569', '_score': None, '_source': {'id': '135569', 'title': 'Star Trek Beyond', 'year': 2016, 'genre': ['Action', 'Adventure', 'Sci-Fi']}, 'sort': ['Star Trek Beyond']}\n",
      "{'_index': 'movies', '_type': 'movie', '_id': '122886', '_score': None, '_source': {'id': '122886', 'title': 'Star Wars: Episode VII - The Force Awakens', 'year': 2015, 'genre': ['Action', 'Adventure', 'Fantasy', 'Sci-Fi', 'IMAX']}, 'sort': ['Star Wars: Episode VII - The Force Awakens']}\n"
     ]
    }
   ],
   "source": [
    "if es is not None:\n",
    "    search(es,'movies',json.dumps(query))"
   ]
  },
  {
   "cell_type": "markdown",
   "metadata": {},
   "source": [
    "# FILTERS"
   ]
  },
  {
   "cell_type": "code",
   "execution_count": 36,
   "metadata": {
    "collapsed": true
   },
   "outputs": [],
   "source": [
    "query={\n",
    "        \"query\":{\n",
    "                \"bool\":{\n",
    "                        \"must\":{\"match\":{\"genre\":\"Sci-Fi\"}},\n",
    "                        \"must_not\":{\"match\":{\"title\":\"trek\"}},\n",
    "                        \"filter\":{\"range\":{\"year\":{\"gte\":2010,\"lt\":2015}}}\n",
    "                }\n",
    "        }\n",
    "}"
   ]
  },
  {
   "cell_type": "code",
   "execution_count": 37,
   "metadata": {},
   "outputs": [
    {
     "name": "stdout",
     "output_type": "stream",
     "text": [
      "{'_index': 'movies', '_type': 'movie', '_id': '109487', '_score': 1.0753684, '_source': {'id': '109487', 'title': 'Interstellar', 'year': 2014, 'genre': ['Sci-Fi', 'IMAX']}}\n"
     ]
    }
   ],
   "source": [
    "if es is not None:\n",
    "    search(es,'movies',json.dumps(query))"
   ]
  },
  {
   "cell_type": "code",
   "execution_count": 38,
   "metadata": {
    "collapsed": true
   },
   "outputs": [],
   "source": [
    "query={\n",
    "\"query\": {\n",
    "        \"bool\": {\n",
    "                \"must\": {\"match\":{\"genre\":\"Sci-Fi\"}},\n",
    "                \"filter\":{\"range\":{\"year\":{\"lt\":1960}}}\n",
    "        }\n",
    "}\n",
    "}"
   ]
  },
  {
   "cell_type": "code",
   "execution_count": 39,
   "metadata": {},
   "outputs": [
    {
     "name": "stdout",
     "output_type": "stream",
     "text": [
      "{'_index': 'movies', '_type': 'movie', '_id': '1924', '_score': 0.5753642, '_source': {'id': '1924', 'title': 'Plan 9 from Outer Space', 'year': 1959, 'genre': ['Horror', 'Sci-Fi']}}\n"
     ]
    }
   ],
   "source": [
    "if es is not None:\n",
    "    search(es,'movies',json.dumps(query))"
   ]
  },
  {
   "cell_type": "markdown",
   "metadata": {},
   "source": [
    "# Fuzzy Queries"
   ]
  },
  {
   "cell_type": "code",
   "execution_count": 40,
   "metadata": {
    "collapsed": true
   },
   "outputs": [],
   "source": [
    "query={\n",
    "\"query\" : {\n",
    "        \"fuzzy\": {\n",
    "                \"title\": {\"value\":\"intersteller\",\"fuzziness\":1}\n",
    "                }\n",
    "        }\n",
    "}"
   ]
  },
  {
   "cell_type": "code",
   "execution_count": 41,
   "metadata": {},
   "outputs": [
    {
     "name": "stdout",
     "output_type": "stream",
     "text": [
      "{'_index': 'movies', '_type': 'movie', '_id': '109487', '_score': 1.2798861, '_source': {'id': '109487', 'title': 'Interstellar', 'year': 2014, 'genre': ['Sci-Fi', 'IMAX']}}\n"
     ]
    }
   ],
   "source": [
    "if es is not None:\n",
    "    search(es,'movies',json.dumps(query))"
   ]
  },
  {
   "cell_type": "code",
   "execution_count": 42,
   "metadata": {
    "collapsed": true
   },
   "outputs": [],
   "source": [
    "query={\n",
    "\"query\" : {\n",
    "        \"fuzzy\": {\n",
    "                \"title\": {\"value\":\"intursteller\",\"fuzziness\":2}\n",
    "                }\n",
    "        }\n",
    "}"
   ]
  },
  {
   "cell_type": "code",
   "execution_count": 43,
   "metadata": {},
   "outputs": [
    {
     "name": "stdout",
     "output_type": "stream",
     "text": [
      "{'_index': 'movies', '_type': 'movie', '_id': '109487', '_score': 1.1635327, '_source': {'id': '109487', 'title': 'Interstellar', 'year': 2014, 'genre': ['Sci-Fi', 'IMAX']}}\n"
     ]
    }
   ],
   "source": [
    "if es is not None:\n",
    "    search(es,'movies',json.dumps(query))"
   ]
  },
  {
   "cell_type": "markdown",
   "metadata": {},
   "source": [
    "# Partial Matching"
   ]
  },
  {
   "cell_type": "code",
   "execution_count": 47,
   "metadata": {},
   "outputs": [
    {
     "data": {
      "text/plain": [
       "{'acknowledged': True}"
      ]
     },
     "execution_count": 47,
     "metadata": {},
     "output_type": "execute_result"
    }
   ],
   "source": [
    "es.indices.delete(index='movies')"
   ]
  },
  {
   "cell_type": "code",
   "execution_count": 48,
   "metadata": {
    "collapsed": true
   },
   "outputs": [],
   "source": [
    "settings = {\n",
    "        \"mappings\":{\n",
    "                \"movie\":{\n",
    "                        \"properties\":{\n",
    "                                \"year\":{\"type\":\"keyword\"}\n",
    "                                }\n",
    "                        }\n",
    "                }\n",
    "}"
   ]
  },
  {
   "cell_type": "code",
   "execution_count": 49,
   "metadata": {},
   "outputs": [
    {
     "data": {
      "text/plain": [
       "{'acknowledged': True, 'index': 'movies', 'shards_acknowledged': True}"
      ]
     },
     "execution_count": 49,
     "metadata": {},
     "output_type": "execute_result"
    }
   ],
   "source": [
    "es.indices.create(index=\"movies\", ignore=400, body=settings)"
   ]
  },
  {
   "cell_type": "code",
   "execution_count": 50,
   "metadata": {
    "scrolled": true
   },
   "outputs": [
    {
     "name": "stdout",
     "output_type": "stream",
     "text": [
      "{\r\n",
      "  \"took\" : 297,\r\n",
      "  \"errors\" : false,\r\n",
      "  \"items\" : [\r\n",
      "    {\r\n",
      "      \"create\" : {\r\n",
      "        \"_index\" : \"movies\",\r\n",
      "        \"_type\" : \"movie\",\r\n",
      "        \"_id\" : \"135569\",\r\n",
      "        \"_version\" : 1,\r\n",
      "        \"result\" : \"created\",\r\n",
      "        \"_shards\" : {\r\n",
      "          \"total\" : 2,\r\n",
      "          \"successful\" : 1,\r\n",
      "          \"failed\" : 0\r\n",
      "        },\r\n",
      "        \"_seq_no\" : 0,\r\n",
      "        \"_primary_term\" : 1,\r\n",
      "        \"status\" : 201\r\n",
      "      }\r\n",
      "    },\r\n",
      "    {\r\n",
      "      \"create\" : {\r\n",
      "        \"_index\" : \"movies\",\r\n",
      "        \"_type\" : \"movie\",\r\n",
      "        \"_id\" : \"122886\",\r\n",
      "        \"_version\" : 1,\r\n",
      "        \"result\" : \"created\",\r\n",
      "        \"_shards\" : {\r\n",
      "          \"total\" : 2,\r\n",
      "          \"successful\" : 1,\r\n",
      "          \"failed\" : 0\r\n",
      "        },\r\n",
      "        \"_seq_no\" : 0,\r\n",
      "        \"_primary_term\" : 1,\r\n",
      "        \"status\" : 201\r\n",
      "      }\r\n",
      "    },\r\n",
      "    {\r\n",
      "      \"create\" : {\r\n",
      "        \"_index\" : \"movies\",\r\n",
      "        \"_type\" : \"movie\",\r\n",
      "        \"_id\" : \"109487\",\r\n",
      "        \"_version\" : 1,\r\n",
      "        \"result\" : \"created\",\r\n",
      "        \"_shards\" : {\r\n",
      "          \"total\" : 2,\r\n",
      "          \"successful\" : 1,\r\n",
      "          \"failed\" : 0\r\n",
      "        },\r\n",
      "        \"_seq_no\" : 1,\r\n",
      "        \"_primary_term\" : 1,\r\n",
      "        \"status\" : 201\r\n",
      "      }\r\n",
      "    },\r\n",
      "    {\r\n",
      "      \"create\" : {\r\n",
      "        \"_index\" : \"movies\",\r\n",
      "        \"_type\" : \"movie\",\r\n",
      "        \"_id\" : \"58559\",\r\n",
      "        \"_version\" : 1,\r\n",
      "        \"result\" : \"created\",\r\n",
      "        \"_shards\" : {\r\n",
      "          \"total\" : 2,\r\n",
      "          \"successful\" : 1,\r\n",
      "          \"failed\" : 0\r\n",
      "        },\r\n",
      "        \"_seq_no\" : 2,\r\n",
      "        \"_primary_term\" : 1,\r\n",
      "        \"status\" : 201\r\n",
      "      }\r\n",
      "    },\r\n",
      "    {\r\n",
      "      \"create\" : {\r\n",
      "        \"_index\" : \"movies\",\r\n",
      "        \"_type\" : \"movie\",\r\n",
      "        \"_id\" : \"1924\",\r\n",
      "        \"_version\" : 1,\r\n",
      "        \"result\" : \"created\",\r\n",
      "        \"_shards\" : {\r\n",
      "          \"total\" : 2,\r\n",
      "          \"successful\" : 1,\r\n",
      "          \"failed\" : 0\r\n",
      "        },\r\n",
      "        \"_seq_no\" : 0,\r\n",
      "        \"_primary_term\" : 1,\r\n",
      "        \"status\" : 201\r\n",
      "      }\r\n",
      "    }\r\n",
      "  ]\r\n",
      "}\r\n"
     ]
    }
   ],
   "source": [
    "!curl -H \"Content-Type:application/json\" -XPUT 127.0.0.1:9200/_bulk?pretty --data-binary @movies.json"
   ]
  },
  {
   "cell_type": "code",
   "execution_count": 51,
   "metadata": {
    "collapsed": true
   },
   "outputs": [],
   "source": [
    "query={\n",
    "        \"query\": {\n",
    "                \"prefix\": {\n",
    "                        \"year\":\"201\"\n",
    "                }\n",
    "        }\n",
    "}"
   ]
  },
  {
   "cell_type": "code",
   "execution_count": 52,
   "metadata": {},
   "outputs": [
    {
     "name": "stdout",
     "output_type": "stream",
     "text": [
      "{'_index': 'movies', '_type': 'movie', '_id': '122886', '_score': 1.0, '_source': {'id': '122886', 'title': 'Star Wars: Episode VII - The Force Awakens', 'year': 2015, 'genre': ['Action', 'Adventure', 'Fantasy', 'Sci-Fi', 'IMAX']}}\n",
      "{'_index': 'movies', '_type': 'movie', '_id': '109487', '_score': 1.0, '_source': {'id': '109487', 'title': 'Interstellar', 'year': 2014, 'genre': ['Sci-Fi', 'IMAX']}}\n",
      "{'_index': 'movies', '_type': 'movie', '_id': '135569', '_score': 1.0, '_source': {'id': '135569', 'title': 'Star Trek Beyond', 'year': 2016, 'genre': ['Action', 'Adventure', 'Sci-Fi']}}\n"
     ]
    }
   ],
   "source": [
    "if es is not None:\n",
    "    search(es,'movies',json.dumps(query))"
   ]
  },
  {
   "cell_type": "code",
   "execution_count": 53,
   "metadata": {
    "collapsed": true
   },
   "outputs": [],
   "source": [
    "query={\n",
    "        \"query\": {\n",
    "                \"wildcard\": {\n",
    "                        \"year\":\"19*\"\n",
    "                }\n",
    "        }\n",
    "}"
   ]
  },
  {
   "cell_type": "code",
   "execution_count": 54,
   "metadata": {},
   "outputs": [
    {
     "name": "stdout",
     "output_type": "stream",
     "text": [
      "{'_index': 'movies', '_type': 'movie', '_id': '1924', '_score': 1.0, '_source': {'id': '1924', 'title': 'Plan 9 from Outer Space', 'year': 1959, 'genre': ['Horror', 'Sci-Fi']}}\n"
     ]
    }
   ],
   "source": [
    "if es is not None:\n",
    "    search(es,'movies',json.dumps(query))"
   ]
  },
  {
   "cell_type": "code",
   "execution_count": null,
   "metadata": {
    "collapsed": true
   },
   "outputs": [],
   "source": []
  }
 ],
 "metadata": {
  "kernelspec": {
   "display_name": "Python 3",
   "language": "python",
   "name": "python3"
  },
  "language_info": {
   "codemirror_mode": {
    "name": "ipython",
    "version": 3
   },
   "file_extension": ".py",
   "mimetype": "text/x-python",
   "name": "python",
   "nbconvert_exporter": "python",
   "pygments_lexer": "ipython3",
   "version": "3.6.2"
  }
 },
 "nbformat": 4,
 "nbformat_minor": 2
}
